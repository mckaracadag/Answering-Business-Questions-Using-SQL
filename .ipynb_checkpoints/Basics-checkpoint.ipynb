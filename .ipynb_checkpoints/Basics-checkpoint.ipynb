{
 "cells": [
  {
   "cell_type": "markdown",
   "metadata": {},
   "source": [
    "## Music Market and Leading to our company marketing strategy "
   ]
  },
  {
   "cell_type": "markdown",
   "metadata": {},
   "source": [
    "Everyone loves music and of course music is a part of our lives. Many cultures and people define theirself with music. Songs, albums, music consumers and producers have created a huge music industry. The music industry has also produced very big data about singer, albums, songs, customer, buying and selling, etc.  Let's look close the music world's data over Chinook Database."
   ]
  },
  {
   "cell_type": "code",
   "execution_count": 52,
   "metadata": {
    "collapsed": false
   },
   "outputs": [
    {
     "data": {
      "text/plain": [
       "'Connected: None@chinook.db'"
      ]
     },
     "execution_count": 52,
     "metadata": {},
     "output_type": "execute_result"
    }
   ],
   "source": [
    "%%capture\n",
    "%load_ext sql\n",
    "%sql sqlite:///chinook.db"
   ]
  },
  {
   "cell_type": "markdown",
   "metadata": {
    "collapsed": true
   },
   "source": [
    "Chinook database has many tables that contains data. You may see the database schema of the tables below:"
   ]
  },
  {
   "cell_type": "markdown",
   "metadata": {},
   "source": [
    "![The Chinook Database Schema](schema.png)"
   ]
  },
  {
   "cell_type": "markdown",
   "metadata": {},
   "source": [
    "I don't want to confuse you with the schema. You just need to know that there are tables and that they are related to each other. You can see table list of chinook database below:"
   ]
  },
  {
   "cell_type": "code",
   "execution_count": 53,
   "metadata": {
    "collapsed": false
   },
   "outputs": [
    {
     "name": "stdout",
     "output_type": "stream",
     "text": [
      "Done.\n"
     ]
    },
    {
     "data": {
      "text/html": [
       "<table>\n",
       "    <tr>\n",
       "        <th>name</th>\n",
       "        <th>type</th>\n",
       "    </tr>\n",
       "    <tr>\n",
       "        <td>album</td>\n",
       "        <td>table</td>\n",
       "    </tr>\n",
       "    <tr>\n",
       "        <td>artist</td>\n",
       "        <td>table</td>\n",
       "    </tr>\n",
       "    <tr>\n",
       "        <td>customer</td>\n",
       "        <td>table</td>\n",
       "    </tr>\n",
       "    <tr>\n",
       "        <td>employee</td>\n",
       "        <td>table</td>\n",
       "    </tr>\n",
       "    <tr>\n",
       "        <td>genre</td>\n",
       "        <td>table</td>\n",
       "    </tr>\n",
       "    <tr>\n",
       "        <td>invoice</td>\n",
       "        <td>table</td>\n",
       "    </tr>\n",
       "    <tr>\n",
       "        <td>invoice_line</td>\n",
       "        <td>table</td>\n",
       "    </tr>\n",
       "    <tr>\n",
       "        <td>media_type</td>\n",
       "        <td>table</td>\n",
       "    </tr>\n",
       "    <tr>\n",
       "        <td>playlist</td>\n",
       "        <td>table</td>\n",
       "    </tr>\n",
       "    <tr>\n",
       "        <td>playlist_track</td>\n",
       "        <td>table</td>\n",
       "    </tr>\n",
       "    <tr>\n",
       "        <td>track</td>\n",
       "        <td>table</td>\n",
       "    </tr>\n",
       "    <tr>\n",
       "        <td>customers_country</td>\n",
       "        <td>view</td>\n",
       "    </tr>\n",
       "</table>"
      ],
      "text/plain": [
       "[('album', 'table'),\n",
       " ('artist', 'table'),\n",
       " ('customer', 'table'),\n",
       " ('employee', 'table'),\n",
       " ('genre', 'table'),\n",
       " ('invoice', 'table'),\n",
       " ('invoice_line', 'table'),\n",
       " ('media_type', 'table'),\n",
       " ('playlist', 'table'),\n",
       " ('playlist_track', 'table'),\n",
       " ('track', 'table'),\n",
       " ('customers_country', 'view')]"
      ]
     },
     "execution_count": 53,
     "metadata": {},
     "output_type": "execute_result"
    }
   ],
   "source": [
    "%%sql\n",
    "SELECT\n",
    "    name,\n",
    "    type\n",
    "FROM sqlite_master\n",
    "WHERE type IN (\"table\",\"view\");"
   ]
  },
  {
   "cell_type": "markdown",
   "metadata": {},
   "source": [
    "Let's look closer to the data. For example, let's take a look at the total sales of Queen's albums in the United States. "
   ]
  },
  {
   "cell_type": "code",
   "execution_count": 54,
   "metadata": {
    "collapsed": false
   },
   "outputs": [
    {
     "name": "stdout",
     "output_type": "stream",
     "text": [
      "Done.\n"
     ]
    },
    {
     "data": {
      "text/html": [
       "<table>\n",
       "    <tr>\n",
       "        <th>artist</th>\n",
       "        <th>album_title</th>\n",
       "        <th>sales_date</th>\n",
       "        <th>sales_volume</th>\n",
       "        <th>sales_revenue</th>\n",
       "    </tr>\n",
       "    <tr>\n",
       "        <td>Queen</td>\n",
       "        <td>Greatest Hits I</td>\n",
       "        <td>2020</td>\n",
       "        <td>1</td>\n",
       "        <td>$9.9</td>\n",
       "    </tr>\n",
       "    <tr>\n",
       "        <td>Queen</td>\n",
       "        <td>Greatest Hits II</td>\n",
       "        <td>2020</td>\n",
       "        <td>2</td>\n",
       "        <td>$17.82</td>\n",
       "    </tr>\n",
       "    <tr>\n",
       "        <td>Queen</td>\n",
       "        <td>Greatest Hits I</td>\n",
       "        <td>2019</td>\n",
       "        <td>2</td>\n",
       "        <td>$19.8</td>\n",
       "    </tr>\n",
       "    <tr>\n",
       "        <td>Queen</td>\n",
       "        <td>Greatest Hits II</td>\n",
       "        <td>2019</td>\n",
       "        <td>4</td>\n",
       "        <td>$33.66</td>\n",
       "    </tr>\n",
       "    <tr>\n",
       "        <td>Queen</td>\n",
       "        <td>Greatest Hits I</td>\n",
       "        <td>2018</td>\n",
       "        <td>1</td>\n",
       "        <td>$10.89</td>\n",
       "    </tr>\n",
       "    <tr>\n",
       "        <td>Queen</td>\n",
       "        <td>Greatest Hits II</td>\n",
       "        <td>2018</td>\n",
       "        <td>2</td>\n",
       "        <td>$17.82</td>\n",
       "    </tr>\n",
       "    <tr>\n",
       "        <td>Queen</td>\n",
       "        <td>News Of The World</td>\n",
       "        <td>2018</td>\n",
       "        <td>1</td>\n",
       "        <td>$2.97</td>\n",
       "    </tr>\n",
       "    <tr>\n",
       "        <td>Queen</td>\n",
       "        <td>Greatest Hits I</td>\n",
       "        <td>2017</td>\n",
       "        <td>4</td>\n",
       "        <td>$32.67</td>\n",
       "    </tr>\n",
       "    <tr>\n",
       "        <td>Queen</td>\n",
       "        <td>Greatest Hits II</td>\n",
       "        <td>2017</td>\n",
       "        <td>2</td>\n",
       "        <td>$20.79</td>\n",
       "    </tr>\n",
       "</table>"
      ],
      "text/plain": [
       "[('Queen', 'Greatest Hits I', '2020', 1, '$9.9'),\n",
       " ('Queen', 'Greatest Hits II', '2020', 2, '$17.82'),\n",
       " ('Queen', 'Greatest Hits I', '2019', 2, '$19.8'),\n",
       " ('Queen', 'Greatest Hits II', '2019', 4, '$33.66'),\n",
       " ('Queen', 'Greatest Hits I', '2018', 1, '$10.89'),\n",
       " ('Queen', 'Greatest Hits II', '2018', 2, '$17.82'),\n",
       " ('Queen', 'News Of The World', '2018', 1, '$2.97'),\n",
       " ('Queen', 'Greatest Hits I', '2017', 4, '$32.67'),\n",
       " ('Queen', 'Greatest Hits II', '2017', 2, '$20.79')]"
      ]
     },
     "execution_count": 54,
     "metadata": {},
     "output_type": "execute_result"
    }
   ],
   "source": [
    "%%sql\n",
    "SELECT \n",
    "    ar.name artist,\n",
    "    al.title album_title,\n",
    "    strftime('%Y', i.invoice_date) sales_date,\n",
    "    SUM(il.quantity) sales_volume,\n",
    "    \"$\" || SUM(i.total) sales_revenue\n",
    "    FROM customer c\n",
    "        INNER JOIN invoice i ON i.customer_id = c.customer_id \n",
    "        INNER JOIN invoice_line il ON il.invoice_id = i.invoice_id\n",
    "        INNER JOIN track t ON t.track_id = il.track_id\n",
    "        INNER JOIN album al ON al.album_id = t.album_id\n",
    "        INNER JOIN artist ar ON ar.artist_id = al.artist_id\n",
    "        WHERE country = \"USA\" AND ar.name = \"Queen\"\n",
    "    GROUP BY 2,3\n",
    "    ORDER BY 3 DESC; "
   ]
  },
  {
   "cell_type": "markdown",
   "metadata": {
    "collapsed": true
   },
   "source": [
    "### Genre Analysis of Our Sales in USA\n",
    "We're interested in finding out which genres sell the best in the USA. We'll need to write a query to find out which genres sell the most tracks in the USA, and make a recommendation for the three artists whose albums we should purchase for the store."
   ]
  },
  {
   "cell_type": "code",
   "execution_count": 55,
   "metadata": {
    "collapsed": false,
    "scrolled": true
   },
   "outputs": [
    {
     "name": "stdout",
     "output_type": "stream",
     "text": [
      "Done.\n"
     ]
    },
    {
     "data": {
      "text/html": [
       "<table>\n",
       "    <tr>\n",
       "        <th>genre</th>\n",
       "        <th>tracks_sold</th>\n",
       "        <th>percentage_sold</th>\n",
       "    </tr>\n",
       "    <tr>\n",
       "        <td>Rock</td>\n",
       "        <td>561</td>\n",
       "        <td>0.5337773549000951</td>\n",
       "    </tr>\n",
       "    <tr>\n",
       "        <td>Alternative &amp; Punk</td>\n",
       "        <td>130</td>\n",
       "        <td>0.12369172216936251</td>\n",
       "    </tr>\n",
       "    <tr>\n",
       "        <td>Metal</td>\n",
       "        <td>124</td>\n",
       "        <td>0.11798287345385347</td>\n",
       "    </tr>\n",
       "    <tr>\n",
       "        <td>R&amp;B/Soul</td>\n",
       "        <td>53</td>\n",
       "        <td>0.05042816365366318</td>\n",
       "    </tr>\n",
       "    <tr>\n",
       "        <td>Blues</td>\n",
       "        <td>36</td>\n",
       "        <td>0.03425309229305423</td>\n",
       "    </tr>\n",
       "    <tr>\n",
       "        <td>Alternative</td>\n",
       "        <td>35</td>\n",
       "        <td>0.03330161750713606</td>\n",
       "    </tr>\n",
       "    <tr>\n",
       "        <td>Latin</td>\n",
       "        <td>22</td>\n",
       "        <td>0.02093244529019981</td>\n",
       "    </tr>\n",
       "    <tr>\n",
       "        <td>Pop</td>\n",
       "        <td>22</td>\n",
       "        <td>0.02093244529019981</td>\n",
       "    </tr>\n",
       "    <tr>\n",
       "        <td>Hip Hop/Rap</td>\n",
       "        <td>20</td>\n",
       "        <td>0.019029495718363463</td>\n",
       "    </tr>\n",
       "    <tr>\n",
       "        <td>Jazz</td>\n",
       "        <td>14</td>\n",
       "        <td>0.013320647002854425</td>\n",
       "    </tr>\n",
       "    <tr>\n",
       "        <td>Easy Listening</td>\n",
       "        <td>13</td>\n",
       "        <td>0.012369172216936251</td>\n",
       "    </tr>\n",
       "    <tr>\n",
       "        <td>Reggae</td>\n",
       "        <td>6</td>\n",
       "        <td>0.005708848715509039</td>\n",
       "    </tr>\n",
       "    <tr>\n",
       "        <td>Electronica/Dance</td>\n",
       "        <td>5</td>\n",
       "        <td>0.004757373929590866</td>\n",
       "    </tr>\n",
       "    <tr>\n",
       "        <td>Classical</td>\n",
       "        <td>4</td>\n",
       "        <td>0.003805899143672693</td>\n",
       "    </tr>\n",
       "    <tr>\n",
       "        <td>Heavy Metal</td>\n",
       "        <td>3</td>\n",
       "        <td>0.0028544243577545195</td>\n",
       "    </tr>\n",
       "    <tr>\n",
       "        <td>Soundtrack</td>\n",
       "        <td>2</td>\n",
       "        <td>0.0019029495718363464</td>\n",
       "    </tr>\n",
       "    <tr>\n",
       "        <td>TV Shows</td>\n",
       "        <td>1</td>\n",
       "        <td>0.0009514747859181732</td>\n",
       "    </tr>\n",
       "</table>"
      ],
      "text/plain": [
       "[('Rock', 561, 0.5337773549000951),\n",
       " ('Alternative & Punk', 130, 0.12369172216936251),\n",
       " ('Metal', 124, 0.11798287345385347),\n",
       " ('R&B/Soul', 53, 0.05042816365366318),\n",
       " ('Blues', 36, 0.03425309229305423),\n",
       " ('Alternative', 35, 0.03330161750713606),\n",
       " ('Latin', 22, 0.02093244529019981),\n",
       " ('Pop', 22, 0.02093244529019981),\n",
       " ('Hip Hop/Rap', 20, 0.019029495718363463),\n",
       " ('Jazz', 14, 0.013320647002854425),\n",
       " ('Easy Listening', 13, 0.012369172216936251),\n",
       " ('Reggae', 6, 0.005708848715509039),\n",
       " ('Electronica/Dance', 5, 0.004757373929590866),\n",
       " ('Classical', 4, 0.003805899143672693),\n",
       " ('Heavy Metal', 3, 0.0028544243577545195),\n",
       " ('Soundtrack', 2, 0.0019029495718363464),\n",
       " ('TV Shows', 1, 0.0009514747859181732)]"
      ]
     },
     "execution_count": 55,
     "metadata": {},
     "output_type": "execute_result"
    }
   ],
   "source": [
    "%%sql\n",
    "WITH total_sold AS (\n",
    "                    SELECT * FROM invoice_line il\n",
    "                    INNER JOIN invoice i on il.invoice_id = i.invoice_id\n",
    "                    INNER JOIN customer c on i.customer_id = c.customer_id\n",
    "                    WHERE c.country = \"USA\"\n",
    "                    )\n",
    "SELECT \n",
    "    g.name genre,\n",
    "    COUNT(ts.quantity) tracks_sold,\n",
    "    cast(count(ts.quantity) AS FLOAT) / \n",
    "                (SELECT COUNT(*) from total_sold) percentage_sold\n",
    "    FROM total_sold ts\n",
    "        INNER JOIN track t ON t.track_id = ts.track_id\n",
    "        INNER JOIN genre g ON g.genre_id = t.genre_id        \n",
    "    GROUP BY 1\n",
    "    ORDER BY 2 DESC; "
   ]
  },
  {
   "cell_type": "markdown",
   "metadata": {
    "collapsed": true
   },
   "source": [
    "As seen from the sales figures, the pieces in the Rock, Punk and Metal genres are the most purchased music pieces. \n",
    "\n",
    "When R&B/Soul (53), Blues (36), Jazz (14) and similar genres are evaluated together, it is seen that the 4th largest segment is an important market size in R&B and Jazz tours. And even when alternative and easy listening are taken into account, it is easily seen that there is an important audience that likes softer music, unlike rock and metal. Together with the smallness of the market share of each, it is seen that as a total of Nich markets, it contains important opportunities.\n",
    "\n",
    "What should our strategy be here? These data can be evaluated differently depending on our company's company strategies. Considering the seasonal trends and customer characteristics, investment in Rock, Punk and Metal genres is considered profitable. However, if long-term trains, creating long-term new customer base formation and niche opportunities are considered together, investing in RBJ can increase product diversity and we remain competitive. "
   ]
  },
  {
   "cell_type": "markdown",
   "metadata": {
    "collapsed": true
   },
   "source": [
    "#### Employee Performance Evaluation\n",
    "\n",
    "Let's look at the total dollar amount of sales assigned to each sales support agent within the company. "
   ]
  },
  {
   "cell_type": "code",
   "execution_count": 56,
   "metadata": {
    "collapsed": false
   },
   "outputs": [
    {
     "name": "stdout",
     "output_type": "stream",
     "text": [
      "Done.\n"
     ]
    },
    {
     "data": {
      "text/html": [
       "<table>\n",
       "    <tr>\n",
       "        <th>name</th>\n",
       "        <th>hire_date</th>\n",
       "        <th>sales_dolar</th>\n",
       "        <th>sold_tracks</th>\n",
       "        <th>performance_per_track</th>\n",
       "    </tr>\n",
       "    <tr>\n",
       "        <td>Jane Peacock</td>\n",
       "        <td>2017</td>\n",
       "        <td>18246.69</td>\n",
       "        <td>1749</td>\n",
       "        <td>10.43</td>\n",
       "    </tr>\n",
       "    <tr>\n",
       "        <td>Margaret Park</td>\n",
       "        <td>2017</td>\n",
       "        <td>15923.16</td>\n",
       "        <td>1600</td>\n",
       "        <td>9.95</td>\n",
       "    </tr>\n",
       "    <tr>\n",
       "        <td>Steve Johnson</td>\n",
       "        <td>2017</td>\n",
       "        <td>13333.32</td>\n",
       "        <td>1408</td>\n",
       "        <td>9.47</td>\n",
       "    </tr>\n",
       "</table>"
      ],
      "text/plain": [
       "[('Jane Peacock', '2017', 18246.69, 1749, 10.43),\n",
       " ('Margaret Park', '2017', 15923.16, 1600, 9.95),\n",
       " ('Steve Johnson', '2017', 13333.32, 1408, 9.47)]"
      ]
     },
     "execution_count": 56,
     "metadata": {},
     "output_type": "execute_result"
    }
   ],
   "source": [
    "%%sql\n",
    "WITH sales_info AS (\n",
    "                    SELECT * FROM customer c\n",
    "                    INNER JOIN invoice i on i.customer_id = c.customer_id\n",
    "                    INNER JOIN invoice_line il ON il.invoice_id = i.invoice_id\n",
    "                    )\n",
    "\n",
    "SELECT \n",
    "    e.first_name || \" \" || e.last_name name,\n",
    "    strftime('%Y', e.hire_date) hire_date,\n",
    "    ROUND(SUM(si.total), 2) sales_dolar,\n",
    "    SUM(si.quantity) sold_tracks,\n",
    "    ROUND(cast(SUM(si.total) AS FLOAT) / SUM(si.quantity), 2) performance_per_track\n",
    "    FROM sales_info si\n",
    "        INNER JOIN employee e ON si.support_rep_id = e.employee_id\n",
    "    GROUP BY 1\n",
    "    ORDER BY 2 DESC;\n"
   ]
  },
  {
   "cell_type": "markdown",
   "metadata": {
    "collapsed": true
   },
   "source": [
    "Three of the employee performed all sales. According to evaluation between them; Though all of them was hired same year, Jane Peacock has best sale performance at the company. Jane Peacock's performance is %8.5 better then next employee's and %19.45 better then 3rd one's performanse."
   ]
  },
  {
   "cell_type": "markdown",
   "metadata": {},
   "source": [
    "### Customers Lifetime Value nased Country and Future Market Analysis\n",
    "\n",
    "We want to evaluate our customers life time value for each country based on the:\n",
    "\n",
    "- total number of customers\n",
    "- total value of sales\n",
    "- average value of sales per customer\n",
    "- average order value\n",
    "\n",
    "There are a number of countries with only one customer. So we will group that countries as \"Other\" and analyze the countries over their customer numbers, total sales, average sales per customer and average order."
   ]
  },
  {
   "cell_type": "code",
   "execution_count": 85,
   "metadata": {
    "collapsed": false
   },
   "outputs": [
    {
     "name": "stdout",
     "output_type": "stream",
     "text": [
      "Done.\n",
      "Done.\n",
      "Done.\n"
     ]
    },
    {
     "data": {
      "text/html": [
       "<table>\n",
       "    <tr>\n",
       "        <th>country</th>\n",
       "        <th>customer_num</th>\n",
       "        <th>total_sales</th>\n",
       "        <th>average_sales_p_customer</th>\n",
       "        <th>average_order</th>\n",
       "    </tr>\n",
       "    <tr>\n",
       "        <td>USA</td>\n",
       "        <td>13</td>\n",
       "        <td>1040.49</td>\n",
       "        <td>80.04</td>\n",
       "        <td>7.94</td>\n",
       "    </tr>\n",
       "    <tr>\n",
       "        <td>Canada</td>\n",
       "        <td>8</td>\n",
       "        <td>535.59</td>\n",
       "        <td>66.95</td>\n",
       "        <td>7.05</td>\n",
       "    </tr>\n",
       "    <tr>\n",
       "        <td>Brazil</td>\n",
       "        <td>5</td>\n",
       "        <td>427.68</td>\n",
       "        <td>85.54</td>\n",
       "        <td>7.01</td>\n",
       "    </tr>\n",
       "    <tr>\n",
       "        <td>France</td>\n",
       "        <td>5</td>\n",
       "        <td>389.07</td>\n",
       "        <td>77.81</td>\n",
       "        <td>7.78</td>\n",
       "    </tr>\n",
       "    <tr>\n",
       "        <td>Germany</td>\n",
       "        <td>4</td>\n",
       "        <td>334.62</td>\n",
       "        <td>83.66</td>\n",
       "        <td>8.16</td>\n",
       "    </tr>\n",
       "    <tr>\n",
       "        <td>Czech Republic</td>\n",
       "        <td>2</td>\n",
       "        <td>273.24</td>\n",
       "        <td>136.62</td>\n",
       "        <td>9.11</td>\n",
       "    </tr>\n",
       "    <tr>\n",
       "        <td>United Kingdom</td>\n",
       "        <td>3</td>\n",
       "        <td>245.52</td>\n",
       "        <td>81.84</td>\n",
       "        <td>8.77</td>\n",
       "    </tr>\n",
       "    <tr>\n",
       "        <td>Portugal</td>\n",
       "        <td>2</td>\n",
       "        <td>185.13</td>\n",
       "        <td>92.57</td>\n",
       "        <td>6.38</td>\n",
       "    </tr>\n",
       "    <tr>\n",
       "        <td>India</td>\n",
       "        <td>2</td>\n",
       "        <td>183.15</td>\n",
       "        <td>91.57</td>\n",
       "        <td>8.72</td>\n",
       "    </tr>\n",
       "    <tr>\n",
       "        <td>OTHER</td>\n",
       "        <td>15</td>\n",
       "        <td>75.24</td>\n",
       "        <td>73.0</td>\n",
       "        <td>7.45</td>\n",
       "    </tr>\n",
       "</table>"
      ],
      "text/plain": [
       "[('USA', 13, 1040.49, 80.04, 7.94),\n",
       " ('Canada', 8, 535.59, 66.95, 7.05),\n",
       " ('Brazil', 5, 427.68, 85.54, 7.01),\n",
       " ('France', 5, 389.07, 77.81, 7.78),\n",
       " ('Germany', 4, 334.62, 83.66, 8.16),\n",
       " ('Czech Republic', 2, 273.24, 136.62, 9.11),\n",
       " ('United Kingdom', 3, 245.52, 81.84, 8.77),\n",
       " ('Portugal', 2, 185.13, 92.57, 6.38),\n",
       " ('India', 2, 183.15, 91.57, 8.72),\n",
       " ('OTHER', 15, 75.24, 73.0, 7.45)]"
      ]
     },
     "execution_count": 85,
     "metadata": {},
     "output_type": "execute_result"
    }
   ],
   "source": [
    "%%sql\n",
    "DROP VIEW customers_country;\n",
    "\n",
    "CREATE VIEW customers_country AS\n",
    "    SELECT\n",
    "        country origin,\n",
    "        CASE\n",
    "             WHEN COUNT(distinct c.customer_id) > 1 THEN c.country\n",
    "             ELSE \"OTHER\"\n",
    "        END AS country,\n",
    "        COUNT(distinct c.customer_id) counts,\n",
    "        COUNT(distinct i.invoice_id) invoices,\n",
    "        SUM(i.total) total_sales\n",
    "    FROM customer c\n",
    "    INNER JOIN invoice i ON i.customer_id = c.customer_id\n",
    "    GROUP BY 1\n",
    "    ORDER BY 2 DESC;\n",
    "\n",
    "\n",
    "SELECT\n",
    "    country,\n",
    "    SUM(counts) customer_num,\n",
    "    ROUND(total_sales, 2) total_sales,\n",
    "    ROUND(SUM(total_sales)/SUM(counts), 2) average_sales_p_customer,\n",
    "    ROUND(SUM(total_sales)/SUM(invoices), 2) average_order\n",
    "\n",
    "FROM\n",
    "    customers_country cc\n",
    "    \n",
    "GROUP BY 1\n",
    "ORDER BY total_sales DESC;\n",
    "\n"
   ]
  },
  {
   "cell_type": "markdown",
   "metadata": {
    "collapsed": false
   },
   "source": [
    "According to table, the noteworthy countries are Czech Republic, Germany, United Kingdom and India.\n",
    "But these data may be deceptive to make decision for those countries. Especially for India with 1.5 billion population and Czech Republic with 10 million, 2 customers are not seen enough for us to make a healthy decision. the sample size is not large enough to give us high confidence. However, it can be said that Czech republic is the most remarkable country in terms of total sales figures, order size per customer and average order size relative to population and customer number.w \n",
    "\n",
    "When evaluated together with the previous table, Germany and the United Kingdom can be a safe harbor for familiarity with the musical genre and the values in the current table. It may be helpful to organize more extensive survey studies in these countries. "
   ]
  },
  {
   "cell_type": "markdown",
   "metadata": {},
   "source": [
    "### Our Customers' Purchasing Behaviour Pattern\n",
    "We have analyze our employees performance, our customers purchase and country opportunities. We need to analyze our products and detailed demands of our customers. In order to decrease costs, our company can consider changing our purchasing strategy to save money. The strategy we are considering is to purchase only the most popular tracks from each album from record companies, instead of purchasing every track from an album. First of all, we need to learn whether our customers' purchasing pattern is to buy full album or individual tracks from the data."
   ]
  },
  {
   "cell_type": "code",
   "execution_count": 84,
   "metadata": {
    "collapsed": false,
    "scrolled": true
   },
   "outputs": [
    {
     "name": "stdout",
     "output_type": "stream",
     "text": [
      "Done.\n"
     ]
    },
    {
     "data": {
      "text/html": [
       "<table>\n",
       "    <tr>\n",
       "        <th>purchased_full_album</th>\n",
       "        <th>number_of_invoices</th>\n",
       "        <th>percent</th>\n",
       "    </tr>\n",
       "    <tr>\n",
       "        <td>no</td>\n",
       "        <td>500</td>\n",
       "        <td>0.8143322475570033</td>\n",
       "    </tr>\n",
       "    <tr>\n",
       "        <td>yes</td>\n",
       "        <td>114</td>\n",
       "        <td>0.18566775244299674</td>\n",
       "    </tr>\n",
       "</table>"
      ],
      "text/plain": [
       "[('no', 500, 0.8143322475570033), ('yes', 114, 0.18566775244299674)]"
      ]
     },
     "execution_count": 84,
     "metadata": {},
     "output_type": "execute_result"
    }
   ],
   "source": [
    "%%sql\n",
    "WITH first_track AS\n",
    "    (\n",
    "     SELECT\n",
    "         il.invoice_id invoice_id,\n",
    "         MIN(il.track_id) first_track_id\n",
    "     FROM invoice_line il\n",
    "     INNER JOIN track t ON t.track_id = il.track_id\n",
    "     GROUP BY 1\n",
    "    )\n",
    "\n",
    "\n",
    "SELECT\n",
    "    purchased_full_album,\n",
    "    COUNT(invoice_id) number_of_invoices,\n",
    "    CAST(count(invoice_id) AS FLOAT) / (SELECT COUNT(*) FROM invoice) percent\n",
    "FROM\n",
    "    (\n",
    "    SELECT\n",
    "        ft.*,\n",
    "        CASE\n",
    "            WHEN\n",
    "                 (\n",
    "                  SELECT t.track_id FROM track t\n",
    "                  WHERE t.album_id = (\n",
    "                                      SELECT t2.album_id FROM track t2\n",
    "                                      WHERE t2.track_id = ft.first_track_id\n",
    "                                     ) \n",
    "\n",
    "                  EXCEPT \n",
    "\n",
    "                  SELECT il2.track_id FROM invoice_line il2\n",
    "                  WHERE il2.invoice_id = ft.invoice_id\n",
    "                 ) IS NULL\n",
    "             AND\n",
    "                 (\n",
    "                  SELECT il2.track_id FROM invoice_line il2\n",
    "                  WHERE il2.invoice_id = ft.invoice_id\n",
    "\n",
    "                  EXCEPT \n",
    "\n",
    "                  SELECT t.track_id FROM track t\n",
    "                  WHERE t.album_id = (\n",
    "                                      SELECT t2.album_id FROM track t2\n",
    "                                      WHERE t2.track_id = ft.first_track_id\n",
    "                                     ) \n",
    "                 ) IS NULL\n",
    "             THEN \"yes\"\n",
    "             ELSE \"no\"\n",
    "         END AS \"purchased_full_album\"\n",
    "     FROM first_track ft\n",
    "    )\n",
    "GROUP BY purchased_full_album;"
   ]
  },
  {
   "cell_type": "markdown",
   "metadata": {
    "collapsed": false
   },
   "source": [
    "According to the result above, full album sales make up only 18.6% of current sales. 81.4% are the orders consisting of individually selected tracks. Accordingly, our customer base consists of conscious individuals who act selectively and pay attention to their budget. In that case, purchasing the pieces liked from the albums with deeper analysis will significantly reduce our costs. With the profit obtained, wider marketing campaigns can be organized, profitable customer base can be increased and our product range can be expanded. "
   ]
  },
  {
   "cell_type": "markdown",
   "metadata": {
    "collapsed": true
   },
   "source": [
    "#### Which artist is used in the most playlists?\n"
   ]
  },
  {
   "cell_type": "code",
   "execution_count": 90,
   "metadata": {
    "collapsed": false
   },
   "outputs": [
    {
     "name": "stdout",
     "output_type": "stream",
     "text": [
      "Done.\n"
     ]
    },
    {
     "data": {
      "text/html": [
       "<table>\n",
       "    <tr>\n",
       "        <th>artist_name</th>\n",
       "        <th>COUNT(ar.name)</th>\n",
       "    </tr>\n",
       "    <tr>\n",
       "        <td>Iron Maiden</td>\n",
       "        <td>516</td>\n",
       "    </tr>\n",
       "    <tr>\n",
       "        <td>U2</td>\n",
       "        <td>333</td>\n",
       "    </tr>\n",
       "    <tr>\n",
       "        <td>Metallica</td>\n",
       "        <td>296</td>\n",
       "    </tr>\n",
       "    <tr>\n",
       "        <td>Led Zeppelin</td>\n",
       "        <td>252</td>\n",
       "    </tr>\n",
       "    <tr>\n",
       "        <td>Deep Purple</td>\n",
       "        <td>226</td>\n",
       "    </tr>\n",
       "    <tr>\n",
       "        <td>Lost</td>\n",
       "        <td>184</td>\n",
       "    </tr>\n",
       "    <tr>\n",
       "        <td>Pearl Jam</td>\n",
       "        <td>177</td>\n",
       "    </tr>\n",
       "    <tr>\n",
       "        <td>Eric Clapton</td>\n",
       "        <td>145</td>\n",
       "    </tr>\n",
       "    <tr>\n",
       "        <td>Faith No More</td>\n",
       "        <td>145</td>\n",
       "    </tr>\n",
       "    <tr>\n",
       "        <td>Lenny Kravitz</td>\n",
       "        <td>143</td>\n",
       "    </tr>\n",
       "</table>"
      ],
      "text/plain": [
       "[('Iron Maiden', 516),\n",
       " ('U2', 333),\n",
       " ('Metallica', 296),\n",
       " ('Led Zeppelin', 252),\n",
       " ('Deep Purple', 226),\n",
       " ('Lost', 184),\n",
       " ('Pearl Jam', 177),\n",
       " ('Eric Clapton', 145),\n",
       " ('Faith No More', 145),\n",
       " ('Lenny Kravitz', 143)]"
      ]
     },
     "execution_count": 90,
     "metadata": {},
     "output_type": "execute_result"
    }
   ],
   "source": [
    "%%sql\n",
    "SELECT\n",
    "    ar.name artist_name,\n",
    "    COUNT(ar.name)\n",
    "    FROM artist ar\n",
    "    INNER JOIN album a ON a.artist_id = ar.artist_id\n",
    "    INNER JOIN track t ON t.album_id = a.album_id\n",
    "    INNER JOIN playlist_track pt ON pt.track_id = t.track_id\n",
    "    INNER JOIN playlist pl ON pl.playlist_id = pt.playlist_id\n",
    "    GROUP BY 1\n",
    "    ORDER BY 2 DESC\n",
    "    LIMIT 10;"
   ]
  },
  {
   "cell_type": "markdown",
   "metadata": {},
   "source": [
    "The artist most used in the playlists is Iron Maiden."
   ]
  },
  {
   "cell_type": "markdown",
   "metadata": {},
   "source": [
    "#### How many tracks have been purchased vs not purchased?\n"
   ]
  },
  {
   "cell_type": "code",
   "execution_count": 128,
   "metadata": {
    "collapsed": false
   },
   "outputs": [
    {
     "name": "stdout",
     "output_type": "stream",
     "text": [
      "Done.\n"
     ]
    },
    {
     "data": {
      "text/html": [
       "<table>\n",
       "    <tr>\n",
       "        <th>purchased_tracks</th>\n",
       "        <th>unpurchased_tracks</th>\n",
       "        <th>total_track</th>\n",
       "        <th>Percent_unpurchased</th>\n",
       "    </tr>\n",
       "    <tr>\n",
       "        <td>1806</td>\n",
       "        <td>1697</td>\n",
       "        <td>3503</td>\n",
       "        <td>48.4</td>\n",
       "    </tr>\n",
       "</table>"
      ],
      "text/plain": [
       "[(1806, 1697, 3503, 48.4)]"
      ]
     },
     "execution_count": 128,
     "metadata": {},
     "output_type": "execute_result"
    }
   ],
   "source": [
    "%%sql\n",
    "WITH trackspurchased AS\n",
    "    (\n",
    "    SELECT\n",
    "        distinct t.track_id\n",
    "    FROM invoice_line il\n",
    "    INNER JOIN track t on il.track_id = t.track_id\n",
    "    )\n",
    "\n",
    "SELECT\n",
    "    COUNT(*) purchased_tracks,\n",
    "    ((SELECT COUNT(*) FROM track) - COUNT(*)) unpurchased_tracks,\n",
    "    (SELECT COUNT(*) FROM track) total_track,\n",
    "    ROUND(100*CAST(((SELECT COUNT(*) FROM track) - COUNT(*)) AS FLOAT) / (SELECT COUNT(*) FROM track), 1) Percent_unpurchased\n",
    "FROM trackspurchased\n",
    "\n"
   ]
  },
  {
   "cell_type": "markdown",
   "metadata": {},
   "source": [
    "#### Is the range of tracks in the store reflective of their sales popularity?\n"
   ]
  },
  {
   "cell_type": "code",
   "execution_count": 147,
   "metadata": {
    "collapsed": false
   },
   "outputs": [
    {
     "name": "stdout",
     "output_type": "stream",
     "text": [
      "Done.\n"
     ]
    },
    {
     "data": {
      "text/html": [
       "<table>\n",
       "    <tr>\n",
       "        <th>Ggnre</th>\n",
       "        <th>tracks</th>\n",
       "        <th>percent_tracks</th>\n",
       "        <th>sales</th>\n",
       "        <th>percent_sales</th>\n",
       "        <th>percent_difference</th>\n",
       "    </tr>\n",
       "    <tr>\n",
       "        <td>Rock</td>\n",
       "        <td>1297</td>\n",
       "        <td>37.03</td>\n",
       "        <td>2608.65</td>\n",
       "        <td>55.39</td>\n",
       "        <td>18.0</td>\n",
       "    </tr>\n",
       "    <tr>\n",
       "        <td>Metal</td>\n",
       "        <td>374</td>\n",
       "        <td>10.68</td>\n",
       "        <td>612.81</td>\n",
       "        <td>13.01</td>\n",
       "        <td>2.0</td>\n",
       "    </tr>\n",
       "    <tr>\n",
       "        <td>R&amp;B/Soul</td>\n",
       "        <td>61</td>\n",
       "        <td>1.74</td>\n",
       "        <td>157.41</td>\n",
       "        <td>3.34</td>\n",
       "        <td>2.0</td>\n",
       "    </tr>\n",
       "    <tr>\n",
       "        <td>Alternative</td>\n",
       "        <td>40</td>\n",
       "        <td>1.14</td>\n",
       "        <td>115.83</td>\n",
       "        <td>2.46</td>\n",
       "        <td>1.0</td>\n",
       "    </tr>\n",
       "    <tr>\n",
       "        <td>Alternative &amp; Punk</td>\n",
       "        <td>332</td>\n",
       "        <td>9.48</td>\n",
       "        <td>487.08</td>\n",
       "        <td>10.34</td>\n",
       "        <td>1.0</td>\n",
       "    </tr>\n",
       "    <tr>\n",
       "        <td>Easy Listening</td>\n",
       "        <td>24</td>\n",
       "        <td>0.69</td>\n",
       "        <td>73.26</td>\n",
       "        <td>1.56</td>\n",
       "        <td>1.0</td>\n",
       "    </tr>\n",
       "    <tr>\n",
       "        <td>Blues</td>\n",
       "        <td>81</td>\n",
       "        <td>2.31</td>\n",
       "        <td>122.76</td>\n",
       "        <td>2.61</td>\n",
       "        <td>0.0</td>\n",
       "    </tr>\n",
       "    <tr>\n",
       "        <td>Electronica/Dance</td>\n",
       "        <td>30</td>\n",
       "        <td>0.86</td>\n",
       "        <td>54.45</td>\n",
       "        <td>1.16</td>\n",
       "        <td>0.0</td>\n",
       "    </tr>\n",
       "    <tr>\n",
       "        <td>Hip Hop/Rap</td>\n",
       "        <td>35</td>\n",
       "        <td>1.0</td>\n",
       "        <td>32.67</td>\n",
       "        <td>0.69</td>\n",
       "        <td>-0.0</td>\n",
       "    </tr>\n",
       "    <tr>\n",
       "        <td>Pop</td>\n",
       "        <td>48</td>\n",
       "        <td>1.37</td>\n",
       "        <td>62.37</td>\n",
       "        <td>1.32</td>\n",
       "        <td>-0.0</td>\n",
       "    </tr>\n",
       "    <tr>\n",
       "        <td>Classical</td>\n",
       "        <td>74</td>\n",
       "        <td>2.11</td>\n",
       "        <td>46.53</td>\n",
       "        <td>0.99</td>\n",
       "        <td>-1.0</td>\n",
       "    </tr>\n",
       "    <tr>\n",
       "        <td>Heavy Metal</td>\n",
       "        <td>28</td>\n",
       "        <td>0.8</td>\n",
       "        <td>7.92</td>\n",
       "        <td>0.17</td>\n",
       "        <td>-1.0</td>\n",
       "    </tr>\n",
       "    <tr>\n",
       "        <td>Jazz</td>\n",
       "        <td>130</td>\n",
       "        <td>3.71</td>\n",
       "        <td>119.79</td>\n",
       "        <td>2.54</td>\n",
       "        <td>-1.0</td>\n",
       "    </tr>\n",
       "    <tr>\n",
       "        <td>Reggae</td>\n",
       "        <td>58</td>\n",
       "        <td>1.66</td>\n",
       "        <td>34.65</td>\n",
       "        <td>0.74</td>\n",
       "        <td>-1.0</td>\n",
       "    </tr>\n",
       "    <tr>\n",
       "        <td>Soundtrack</td>\n",
       "        <td>43</td>\n",
       "        <td>1.23</td>\n",
       "        <td>4.95</td>\n",
       "        <td>0.11</td>\n",
       "        <td>-1.0</td>\n",
       "    </tr>\n",
       "    <tr>\n",
       "        <td>Drama</td>\n",
       "        <td>64</td>\n",
       "        <td>1.83</td>\n",
       "        <td>0.99</td>\n",
       "        <td>0.02</td>\n",
       "        <td>-2.0</td>\n",
       "    </tr>\n",
       "    <tr>\n",
       "        <td>TV Shows</td>\n",
       "        <td>93</td>\n",
       "        <td>2.65</td>\n",
       "        <td>1.98</td>\n",
       "        <td>0.04</td>\n",
       "        <td>-3.0</td>\n",
       "    </tr>\n",
       "    <tr>\n",
       "        <td>Latin</td>\n",
       "        <td>579</td>\n",
       "        <td>16.53</td>\n",
       "        <td>165.33</td>\n",
       "        <td>3.51</td>\n",
       "        <td>-13.0</td>\n",
       "    </tr>\n",
       "</table>"
      ],
      "text/plain": [
       "[('Rock', 1297, 37.03, 2608.65, 55.39, 18.0),\n",
       " ('Metal', 374, 10.68, 612.81, 13.01, 2.0),\n",
       " ('R&B/Soul', 61, 1.74, 157.41, 3.34, 2.0),\n",
       " ('Alternative', 40, 1.14, 115.83, 2.46, 1.0),\n",
       " ('Alternative & Punk', 332, 9.48, 487.08, 10.34, 1.0),\n",
       " ('Easy Listening', 24, 0.69, 73.26, 1.56, 1.0),\n",
       " ('Blues', 81, 2.31, 122.76, 2.61, 0.0),\n",
       " ('Electronica/Dance', 30, 0.86, 54.45, 1.16, 0.0),\n",
       " ('Hip Hop/Rap', 35, 1.0, 32.67, 0.69, -0.0),\n",
       " ('Pop', 48, 1.37, 62.37, 1.32, -0.0),\n",
       " ('Classical', 74, 2.11, 46.53, 0.99, -1.0),\n",
       " ('Heavy Metal', 28, 0.8, 7.92, 0.17, -1.0),\n",
       " ('Jazz', 130, 3.71, 119.79, 2.54, -1.0),\n",
       " ('Reggae', 58, 1.66, 34.65, 0.74, -1.0),\n",
       " ('Soundtrack', 43, 1.23, 4.95, 0.11, -1.0),\n",
       " ('Drama', 64, 1.83, 0.99, 0.02, -2.0),\n",
       " ('TV Shows', 93, 2.65, 1.98, 0.04, -3.0),\n",
       " ('Latin', 579, 16.53, 165.33, 3.51, -13.0)]"
      ]
     },
     "execution_count": 147,
     "metadata": {},
     "output_type": "execute_result"
    }
   ],
   "source": [
    "%%sql\n",
    "   \n",
    "WITH genre_sales AS\n",
    "    (\n",
    "    SELECT\n",
    "        g.name Genre,\n",
    "        TOTAL(il.unit_price) Sales\n",
    "    FROM invoice_line il\n",
    "    LEFT JOIN track t ON t.track_id = il.track_id\n",
    "    LEFT JOIN genre g ON g.genre_id = t.genre_id\n",
    "    GROUP BY 1\n",
    "    )\n",
    "\n",
    "SELECT\n",
    "    g.name Ggnre,\n",
    "    COUNT(DISTINCT t.track_id) tracks,\n",
    "    ROUND(100*CAST(COUNT(DISTINCT t.track_id) AS FLOAT) / \n",
    "          CAST((SELECT COUNT(DISTINCT track_id) FROM track) AS FLOAT), 2) percent_tracks,\n",
    "    ROUND(gs.Sales, 2) sales,\n",
    "    ROUND(100*gs.Sales / (SELECT TOTAL(total) FROM invoice), 2) percent_sales,\n",
    "    ROUND(100*gs.Sales / (SELECT TOTAL(total) FROM invoice) - 100*CAST(COUNT(DISTINCT t.track_id) AS FLOAT) / \n",
    "          CAST((SELECT COUNT(DISTINCT track_id) FROM track) AS FLOAT)) percent_difference\n",
    "FROM genre g\n",
    "INNER JOIN track t ON t.genre_id = g.genre_id\n",
    "INNER JOIN genre_sales gs ON gs.Genre = g.name\n",
    "GROUP BY 1\n",
    "ORDER BY 6 DESC;"
   ]
  },
  {
   "cell_type": "markdown",
   "metadata": {},
   "source": [
    "The range of tracks in the store mostly reflects the popularity of sales except Rock, Latin, etc. For example, 1297 Rock pieces represent 37% of the total pieces, but represent 55% of the sales. it provided 18% more return proportionally. Although Latin pieces were 16.53 percent of the total pieces, their return was only 3.51%. Proportionally, it provided 13% less return. "
   ]
  },
  {
   "cell_type": "markdown",
   "metadata": {},
   "source": [
    "#### Do protected vs non-protected media types have an effect on popularity?"
   ]
  },
  {
   "cell_type": "code",
   "execution_count": 146,
   "metadata": {
    "collapsed": false
   },
   "outputs": [
    {
     "name": "stdout",
     "output_type": "stream",
     "text": [
      "Done.\n"
     ]
    },
    {
     "data": {
      "text/html": [
       "<table>\n",
       "    <tr>\n",
       "        <th>media_type</th>\n",
       "        <th>total_sales</th>\n",
       "        <th>percent_total_sales</th>\n",
       "    </tr>\n",
       "    <tr>\n",
       "        <td>Non-protected</td>\n",
       "        <td>4274.82</td>\n",
       "        <td>90.8</td>\n",
       "    </tr>\n",
       "    <tr>\n",
       "        <td>Protected</td>\n",
       "        <td>434.61</td>\n",
       "        <td>9.2</td>\n",
       "    </tr>\n",
       "</table>"
      ],
      "text/plain": [
       "[('Non-protected', 4274.82, 90.8), ('Protected', 434.61, 9.2)]"
      ]
     },
     "execution_count": 146,
     "metadata": {},
     "output_type": "execute_result"
    }
   ],
   "source": [
    "%%sql\n",
    "SELECT\n",
    "    media_type,\n",
    "    ROUND(TOTAL(unit_price), 2) total_sales,\n",
    "    ROUND(100*TOTAL(unit_price) / (SELECT TOTAL(unit_price) FROM invoice_line), 1) percent_total_sales\n",
    "FROM (\n",
    "    SELECT\n",
    "        il.invoice_line_id,\n",
    "        il.invoice_id,\n",
    "        il.track_id,\n",
    "        il.unit_price,\n",
    "        mt.name,\n",
    "        CASE\n",
    "            WHEN mt.name = (SELECT name FROM media_type WHERE name LIKE \"%Protected%\") THEN \"Protected\"\n",
    "            ELSE \"Non-protected\"\n",
    "            END\n",
    "        AS media_type\n",
    "    FROM invoice_line il\n",
    "    LEFT JOIN track t ON t.track_id = il.track_id\n",
    "    INNER JOIN media_type mt ON mt.media_type_id = t.media_type_id\n",
    "    )\n",
    "GROUP BY 1"
   ]
  },
  {
   "cell_type": "markdown",
   "metadata": {},
   "source": [
    "Tracks under non-protected media types account for 90% of the total sales. Protected tracks are not preferred as much as unprotected ones. "
   ]
  },
  {
   "cell_type": "markdown",
   "metadata": {},
   "source": [
    "### Conclusion\n",
    "\n",
    "Rock, Alternative & Punk, Metal, and R&B/Soul are among the top-selling music genres in the USA. When R&B/Soul, Blues, Jazz  and similar genres are evaluated together, it is seen that the 4th largest segment is an important market size in R&B and Jazz tours. And even when alternative and easy listening are taken into account, it is easily seen that there is an important audience that likes softer music, unlike rock and metal. The addition of these type albums and tracks from American artists could improve the sales performance of the store.\n",
    "\n",
    "I determined the sales performance of the shop's employees. They were hired same year. The sales performance of employees seems to depend on their hiring dates. Though all of them was hired same year, Jane Peacock has best sale performance at the company.\n",
    "\n",
    "The noteworthy countries are Czech Republic, Germany, United Kingdom and India. But these data may be deceptive to make decision for those countries. Especially for India with 1.5 billion population and Czech Republic with 10 million, 2 customers are not seen enough for us to make a healthy decision. The sample size is not large enough to give us high confidence. However, it can be said that Czech republic is the most remarkable country in terms of total sales figures, order size per customer and average order size relative to population and customer number. Germany and the United Kingdom can be a safe harbor for familiarity with the musical genre and the values in the current table. We can say that Czech Republic, United Kingdom, and Germany show opportunities for growth.\n",
    "\n",
    "About 20% of total sales come from whole album purchases. 81.4% are the orders consisting of individually selected tracks. Our company especially should continue to selling individual tracks. Our customer base prefer individual tracks liked. In that case, purchasing the pieces liked from the albums with deeper analysis will significantly reduce our costs. \n",
    "\n",
    "The artist Iron Maiden is mostly used in the playlists.\n",
    "About half of the available tracks in the store remain unpurchased.\n",
    "The range of tracks in the store mostly reflects the sales performance except Rock, Latin etc. It may rethink about the number of tracks classified under Latin, TV Shows, Drama genres following the observed negative trends in sales. On the other hand, R&B/Soul, Alternative and Blues may offer opportunities. \n",
    "Tracks categorized under non-protected media types are sold better than protected types.\n",
    "    \n",
    "\n"
   ]
  }
 ],
 "metadata": {
  "kernelspec": {
   "display_name": "Python 3",
   "language": "python",
   "name": "python3"
  },
  "language_info": {
   "codemirror_mode": {
    "name": "ipython",
    "version": 3
   },
   "file_extension": ".py",
   "mimetype": "text/x-python",
   "name": "python",
   "nbconvert_exporter": "python",
   "pygments_lexer": "ipython3",
   "version": "3.4.3"
  }
 },
 "nbformat": 4,
 "nbformat_minor": 2
}
